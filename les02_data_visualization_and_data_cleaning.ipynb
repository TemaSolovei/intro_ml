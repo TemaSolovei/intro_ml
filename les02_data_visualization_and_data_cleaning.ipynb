{
 "cells": [
  {
   "cell_type": "markdown",
   "metadata": {},
   "source": [
    "#  2.1 Графический анализ данных"
   ]
  },
  {
   "cell_type": "code",
   "execution_count": 282,
   "metadata": {},
   "outputs": [
    {
     "data": {
      "text/html": [
       "<script>requirejs.config({paths: { 'plotly': ['https://cdn.plot.ly/plotly-latest.min']},});if(!window.Plotly) {{require(['plotly'],function(plotly) {window.Plotly=plotly;});}}</script>"
      ],
      "text/vnd.plotly.v1+html": [
       "<script>requirejs.config({paths: { 'plotly': ['https://cdn.plot.ly/plotly-latest.min']},});if(!window.Plotly) {{require(['plotly'],function(plotly) {window.Plotly=plotly;});}}</script>"
      ]
     },
     "metadata": {},
     "output_type": "display_data"
    }
   ],
   "source": [
    "from plotly.offline import iplot, init_notebook_mode\n",
    "import plotly.graph_objs as go\n",
    "from collections import Counter\n",
    "import numpy as np\n",
    "\n",
    "init_notebook_mode(connected=True)"
   ]
  },
  {
   "cell_type": "markdown",
   "metadata": {},
   "source": [
    "### Виды случайной величины\n",
    "\n",
    "**Случайной величиной** называют величину, которая в результате испытания примет одно возможное значение, наперёд неизвестное и зависящее от случайных причин, которые заранее не могут быть учтены.\n",
    "\n",
    "Выпадение некоторого значения случайной величины Х это случайное событие: Х = хi. Среди случайных величин выделяют дискретные и непрерывные случайные величины.\n",
    "\n",
    "**Дискретной случайной величиной** называется случайная величина, которая в результате испытания принимает отдельные значения с определёнными вероятностями. Число возможных значений дискретной случайной величины может быть конечным и бесконечным. Примеры дискретной случайной величины: запись показаний спидометра или измеренной температуры в конкретные моменты времени.\n",
    "\n",
    "**Непрерывной случайной величиной** называют случайную величину, которая в результате испытания принимает все значения из некоторого числового промежутка. Число возможных значений непрерывной случайной величины бесконечно. Пример непрерывной случайной величины: измерение скорости перемещения любого вида транспорта или температуры в течение конкретного интервала времени.\n",
    "\n",
    "### Ряды распределений\n",
    "\n",
    "Выделяют три формы вариационного ряда: ранжированный ряд, дискретный ряд и интервальный ряд.\n",
    "\n",
    "**Ранжированный ряд** - это распределение отдельных единиц совокупности в порядке возрастания или убывания исследуемого признака. Ранжирование позволяет легко разделить количественные данные по группам, сразу обнаружить наименьшее и наибольшее значения признака, выделить значения, которые чаще всего повторяются.\n",
    "\n",
    "Другие формы вариационного ряда - групповые таблицы, составленные по характеру вариации значений изучаемого признака. По характеру вариации различают дискретные (прерывные) и непрерывные признаки.\n",
    "\n",
    "**Дискретный ряд** - это такой вариационный ряд, в основу построения которого положены признаки с прерывным изменением (дискретные признаки). К последним можно отнести тарифный разряд, количество детей в семье, число работников на предприятии и т.д. Эти признаки могут принимать только конечное число определенных значений.\n",
    "\n",
    "Дискретный вариационный ряд представляет таблицу, которая состоит из двух граф. В первой графе указывается конкретное значение признака, а во второй - число единиц совокупности с определенным значением признака.\n",
    "\n",
    "Если признак имеет непрерывное изменение (размер дохода, стаж работы, стоимость основных фондов предприятия и т.д., которые в определенных границах могут принимать любые значения), то для этого признака нужно строить **интервальный вариационный ряд**."
   ]
  },
  {
   "cell_type": "code",
   "execution_count": 283,
   "metadata": {},
   "outputs": [
    {
     "data": {
      "text/plain": [
       "Counter({2: 1, 4: 1, 5: 1, 6: 2, 7: 2, 8: 1, 10: 2, 12: 1})"
      ]
     },
     "execution_count": 283,
     "metadata": {},
     "output_type": "execute_result"
    }
   ],
   "source": [
    "discrete_series = [12, 8, 5, 10, 6, 2, 6, 7, 4, 7, 10]\n",
    "continuous_series = [2.1, 3.9, 5.2, 6.5, 6.3, 7.7, 7.2, 8.1, 10.1, 10.5, 12.9]\n",
    "rang_discrete_series = Counter(sorted(discrete_series))\n",
    "rang_discrete_series"
   ]
  },
  {
   "cell_type": "markdown",
   "metadata": {},
   "source": [
    "### Гистограммы"
   ]
  },
  {
   "cell_type": "code",
   "execution_count": 284,
   "metadata": {},
   "outputs": [
    {
     "data": {
      "application/vnd.plotly.v1+json": {
       "data": [
        {
         "type": "bar",
         "x": [
          2,
          4,
          5,
          6,
          7,
          8,
          10,
          12
         ],
         "y": [
          1,
          1,
          1,
          2,
          2,
          1,
          2,
          1
         ]
        }
       ],
       "layout": {}
      },
      "text/html": [
       "<div id=\"337bf54e-97c5-42ac-b36a-64a46e4ae760\" style=\"height: 525px; width: 100%;\" class=\"plotly-graph-div\"></div><script type=\"text/javascript\">require([\"plotly\"], function(Plotly) { window.PLOTLYENV=window.PLOTLYENV || {};window.PLOTLYENV.BASE_URL=\"https://plot.ly\";Plotly.newPlot(\"337bf54e-97c5-42ac-b36a-64a46e4ae760\", [{\"type\": \"bar\", \"x\": [2, 4, 5, 6, 7, 8, 10, 12], \"y\": [1, 1, 1, 2, 2, 1, 2, 1]}], {}, {\"showLink\": true, \"linkText\": \"Export to plot.ly\"})});</script>"
      ],
      "text/vnd.plotly.v1+html": [
       "<div id=\"337bf54e-97c5-42ac-b36a-64a46e4ae760\" style=\"height: 525px; width: 100%;\" class=\"plotly-graph-div\"></div><script type=\"text/javascript\">require([\"plotly\"], function(Plotly) { window.PLOTLYENV=window.PLOTLYENV || {};window.PLOTLYENV.BASE_URL=\"https://plot.ly\";Plotly.newPlot(\"337bf54e-97c5-42ac-b36a-64a46e4ae760\", [{\"type\": \"bar\", \"x\": [2, 4, 5, 6, 7, 8, 10, 12], \"y\": [1, 1, 1, 2, 2, 1, 2, 1]}], {}, {\"showLink\": true, \"linkText\": \"Export to plot.ly\"})});</script>"
      ]
     },
     "metadata": {},
     "output_type": "display_data"
    }
   ],
   "source": [
    "iplot([go.Bar(x=list(rang_discrete_series.keys()),\n",
    "              y=list(rang_discrete_series.values()))])"
   ]
  },
  {
   "cell_type": "code",
   "execution_count": 285,
   "metadata": {},
   "outputs": [
    {
     "data": {
      "application/vnd.plotly.v1+json": {
       "data": [
        {
         "type": "histogram",
         "x": [
          2.1,
          3.9,
          5.2,
          6.5,
          6.3,
          7.7,
          7.2,
          8.1,
          10.1,
          10.5,
          12.9
         ],
         "xbins": {
          "size": 3
         }
        }
       ],
       "layout": {}
      },
      "text/html": [
       "<div id=\"fdafc7e2-a7ec-4b4e-a1d3-fcf3805eb3df\" style=\"height: 525px; width: 100%;\" class=\"plotly-graph-div\"></div><script type=\"text/javascript\">require([\"plotly\"], function(Plotly) { window.PLOTLYENV=window.PLOTLYENV || {};window.PLOTLYENV.BASE_URL=\"https://plot.ly\";Plotly.newPlot(\"fdafc7e2-a7ec-4b4e-a1d3-fcf3805eb3df\", [{\"type\": \"histogram\", \"x\": [2.1, 3.9, 5.2, 6.5, 6.3, 7.7, 7.2, 8.1, 10.1, 10.5, 12.9], \"xbins\": {\"size\": 3}}], {}, {\"showLink\": true, \"linkText\": \"Export to plot.ly\"})});</script>"
      ],
      "text/vnd.plotly.v1+html": [
       "<div id=\"fdafc7e2-a7ec-4b4e-a1d3-fcf3805eb3df\" style=\"height: 525px; width: 100%;\" class=\"plotly-graph-div\"></div><script type=\"text/javascript\">require([\"plotly\"], function(Plotly) { window.PLOTLYENV=window.PLOTLYENV || {};window.PLOTLYENV.BASE_URL=\"https://plot.ly\";Plotly.newPlot(\"fdafc7e2-a7ec-4b4e-a1d3-fcf3805eb3df\", [{\"type\": \"histogram\", \"x\": [2.1, 3.9, 5.2, 6.5, 6.3, 7.7, 7.2, 8.1, 10.1, 10.5, 12.9], \"xbins\": {\"size\": 3}}], {}, {\"showLink\": true, \"linkText\": \"Export to plot.ly\"})});</script>"
      ]
     },
     "metadata": {},
     "output_type": "display_data"
    }
   ],
   "source": [
    "iplot([go.Histogram(x=continuous_series,\n",
    "                    xbins=dict(size=3))])"
   ]
  },
  {
   "cell_type": "markdown",
   "metadata": {},
   "source": [
    "### Ящик с усами"
   ]
  },
  {
   "cell_type": "code",
   "execution_count": 286,
   "metadata": {},
   "outputs": [
    {
     "data": {
      "application/vnd.plotly.v1+json": {
       "data": [
        {
         "boxpoints": "all",
         "name": "discrete_series",
         "pointpos": -1.5,
         "type": "box",
         "y": [
          12,
          8,
          5,
          10,
          6,
          2,
          6,
          7,
          4,
          7,
          10
         ]
        }
       ],
       "layout": {
        "boxgap": 0.8
       }
      },
      "text/html": [
       "<div id=\"e466cc43-89ad-4bc6-a012-bdd89536799d\" style=\"height: 525px; width: 100%;\" class=\"plotly-graph-div\"></div><script type=\"text/javascript\">require([\"plotly\"], function(Plotly) { window.PLOTLYENV=window.PLOTLYENV || {};window.PLOTLYENV.BASE_URL=\"https://plot.ly\";Plotly.newPlot(\"e466cc43-89ad-4bc6-a012-bdd89536799d\", [{\"type\": \"box\", \"y\": [12, 8, 5, 10, 6, 2, 6, 7, 4, 7, 10], \"boxpoints\": \"all\", \"pointpos\": -1.5, \"name\": \"discrete_series\"}], {\"boxgap\": 0.8}, {\"showLink\": true, \"linkText\": \"Export to plot.ly\"})});</script>"
      ],
      "text/vnd.plotly.v1+html": [
       "<div id=\"e466cc43-89ad-4bc6-a012-bdd89536799d\" style=\"height: 525px; width: 100%;\" class=\"plotly-graph-div\"></div><script type=\"text/javascript\">require([\"plotly\"], function(Plotly) { window.PLOTLYENV=window.PLOTLYENV || {};window.PLOTLYENV.BASE_URL=\"https://plot.ly\";Plotly.newPlot(\"e466cc43-89ad-4bc6-a012-bdd89536799d\", [{\"type\": \"box\", \"y\": [12, 8, 5, 10, 6, 2, 6, 7, 4, 7, 10], \"boxpoints\": \"all\", \"pointpos\": -1.5, \"name\": \"discrete_series\"}], {\"boxgap\": 0.8}, {\"showLink\": true, \"linkText\": \"Export to plot.ly\"})});</script>"
      ]
     },
     "metadata": {},
     "output_type": "display_data"
    }
   ],
   "source": [
    "data_box = [go.Box(y=discrete_series,\n",
    "                   boxpoints='all',\n",
    "                   pointpos=-1.5,\n",
    "                   name='discrete_series')]\n",
    "layout_box = go.Layout(boxgap=0.8)\n",
    "\n",
    "iplot(go.Figure(data=data_box, layout=layout_box))"
   ]
  },
  {
   "cell_type": "code",
   "execution_count": 287,
   "metadata": {},
   "outputs": [
    {
     "data": {
      "application/vnd.plotly.v1+json": {
       "data": [
        {
         "boxpoints": "all",
         "name": "discrete_series",
         "pointpos": -1.5,
         "type": "box",
         "y": [
          12,
          8,
          5,
          10,
          6,
          2,
          6,
          7,
          4,
          7,
          10
         ]
        },
        {
         "boxpoints": "all",
         "name": "discrete_series_with_outlier",
         "pointpos": -1.5,
         "type": "box",
         "y": [
          12,
          8,
          5,
          10,
          6,
          2,
          6,
          7,
          4,
          7,
          10,
          18
         ]
        }
       ],
       "layout": {
        "boxgap": 0.7
       }
      },
      "text/html": [
       "<div id=\"a5d554c0-5ff6-43af-953c-3cce46b42744\" style=\"height: 525px; width: 100%;\" class=\"plotly-graph-div\"></div><script type=\"text/javascript\">require([\"plotly\"], function(Plotly) { window.PLOTLYENV=window.PLOTLYENV || {};window.PLOTLYENV.BASE_URL=\"https://plot.ly\";Plotly.newPlot(\"a5d554c0-5ff6-43af-953c-3cce46b42744\", [{\"type\": \"box\", \"y\": [12, 8, 5, 10, 6, 2, 6, 7, 4, 7, 10], \"boxpoints\": \"all\", \"pointpos\": -1.5, \"name\": \"discrete_series\"}, {\"type\": \"box\", \"y\": [12, 8, 5, 10, 6, 2, 6, 7, 4, 7, 10, 18], \"boxpoints\": \"all\", \"pointpos\": -1.5, \"name\": \"discrete_series_with_outlier\"}], {\"boxgap\": 0.7}, {\"showLink\": true, \"linkText\": \"Export to plot.ly\"})});</script>"
      ],
      "text/vnd.plotly.v1+html": [
       "<div id=\"a5d554c0-5ff6-43af-953c-3cce46b42744\" style=\"height: 525px; width: 100%;\" class=\"plotly-graph-div\"></div><script type=\"text/javascript\">require([\"plotly\"], function(Plotly) { window.PLOTLYENV=window.PLOTLYENV || {};window.PLOTLYENV.BASE_URL=\"https://plot.ly\";Plotly.newPlot(\"a5d554c0-5ff6-43af-953c-3cce46b42744\", [{\"type\": \"box\", \"y\": [12, 8, 5, 10, 6, 2, 6, 7, 4, 7, 10], \"boxpoints\": \"all\", \"pointpos\": -1.5, \"name\": \"discrete_series\"}, {\"type\": \"box\", \"y\": [12, 8, 5, 10, 6, 2, 6, 7, 4, 7, 10, 18], \"boxpoints\": \"all\", \"pointpos\": -1.5, \"name\": \"discrete_series_with_outlier\"}], {\"boxgap\": 0.7}, {\"showLink\": true, \"linkText\": \"Export to plot.ly\"})});</script>"
      ]
     },
     "metadata": {},
     "output_type": "display_data"
    }
   ],
   "source": [
    "discrete_series_with_outlier = discrete_series+[18]\n",
    "data_box = [go.Box(y=discrete_series,\n",
    "                   boxpoints='all',\n",
    "                   pointpos=-1.5,\n",
    "                   name='discrete_series'),\n",
    "            go.Box(y=discrete_series_with_outlier,\n",
    "                   boxpoints='all',\n",
    "                   pointpos=-1.5,\n",
    "                  name='discrete_series_with_outlier')]\n",
    "layout_box = go.Layout(boxgap=0.7)\n",
    "\n",
    "iplot(go.Figure(data=data_box, layout=layout_box))"
   ]
  },
  {
   "cell_type": "markdown",
   "metadata": {},
   "source": [
    "### Удаление выбросов"
   ]
  },
  {
   "cell_type": "code",
   "execution_count": 288,
   "metadata": {},
   "outputs": [
    {
     "name": "stdout",
     "output_type": "stream",
     "text": [
      "upper_outer_fence:  22.75, \n",
      "upper_inner_fence:  16.375,\n",
      "lower_inner_fence:  -0.625,\n",
      "lower_outer_fence\"  -7.0\n",
      "discrete_series_with_outlier    [12, 8, 5, 10, 6, 2, 6, 7, 4, 7, 10, 18]\n",
      "discrete_series_without_outlier [12, 8, 5, 10, 6, 2, 6, 7, 4, 7, 10]\n"
     ]
    }
   ],
   "source": [
    "Q1, Q2, Q3 = np.percentile(discrete_series_with_outlier, [25, 50, 75])\n",
    "IQR = Q3 - Q1\n",
    "lower_inner_fence = Q1 - (1.5 * IQR)\n",
    "lower_outer_fence = Q1 - (3 * IQR)\n",
    "upper_inner_fence = Q3 + (1.5 * IQR)\n",
    "upper_outer_fence = Q3 + (3 * IQR)\n",
    "print(f'''upper_outer_fence:  {upper_outer_fence}, \n",
    "upper_inner_fence:  {upper_inner_fence},\n",
    "lower_inner_fence:  {lower_inner_fence},\n",
    "lower_outer_fence\"  {lower_outer_fence}''')\n",
    "print('discrete_series_with_outlier   ', discrete_series_with_outlier)\n",
    "print('discrete_series_without_outlier',\n",
    "      list(filter(lambda x: lower_inner_fence < x < upper_inner_fence,\n",
    "                  discrete_series_with_outlier)))"
   ]
  },
  {
   "cell_type": "markdown",
   "metadata": {},
   "source": [
    "# 2.2 Очистка данных"
   ]
  },
  {
   "cell_type": "code",
   "execution_count": 289,
   "metadata": {},
   "outputs": [],
   "source": [
    "import requests\n",
    "import re\n",
    "from bs4 import BeautifulSoup\n",
    "from IPython.core.display import HTML\n",
    "from collections import Counter"
   ]
  },
  {
   "cell_type": "code",
   "execution_count": 290,
   "metadata": {},
   "outputs": [
    {
     "name": "stdout",
     "output_type": "stream",
     "text": [
      "Text: \n",
      "\n",
      "Здесь я расскажу и покажу в примерах на Python, зачем и как считать стандартный TF-IDF, а также его вариации. Примеры я буду давать по ходу объяснения. Чтобы их понять, нужно иметь представления о базовых понятиях языка программирования Python в версии 2.х либо 3.х (основные типы данных, основные \n",
      "\n",
      "Tokens:\n",
      "\n",
      " ['здесь', 'я', 'расскажу', 'и', 'покажу', 'в', 'примерах', 'на', 'python', 'зачем', 'и', 'как', 'считать', 'стандартный', 'tf', 'idf', 'а', 'также', 'его', 'вариации', 'примеры', 'я', 'буду', 'давать', 'по', 'ходу', 'объяснения', 'чтобы', 'их', 'понять', 'нужно', 'иметь', 'представления', 'о', 'базовых', 'понятиях', 'языка', 'программирования', 'python', 'в', 'версии', '2', 'х', 'либо', '3', 'х', 'основные', 'типы', 'данных', 'основные']\n"
     ]
    }
   ],
   "source": [
    "url_tf_idf = 'http://nlpx.net/archives/57'\n",
    "r = requests.get(url_tf_idf)\n",
    "soup = BeautifulSoup(r.text, 'lxml')\n",
    "text = ' '.join(map(lambda x: x.text, soup.select('.post-content')))\n",
    "print('Text:', text[:300])\n",
    "tokens = re.findall(r\"[\\w']+\", text.lower())\n",
    "print('\\nTokens:\\n\\n', tokens[:50])"
   ]
  },
  {
   "cell_type": "markdown",
   "metadata": {},
   "source": [
    "### Удаленеи выбросов\n",
    "**Стоп-слова** — слова, которые не несут никакой смысловой нагрузки. Их еще называют шумовыми словами. Например,в английском языке — это артикли, в русском — междометия, союзы, маты и т.д."
   ]
  },
  {
   "cell_type": "code",
   "execution_count": null,
   "metadata": {},
   "outputs": [],
   "source": []
  },
  {
   "cell_type": "code",
   "execution_count": null,
   "metadata": {},
   "outputs": [],
   "source": []
  },
  {
   "cell_type": "markdown",
   "metadata": {},
   "source": [
    "### Дополнительно\n",
    "***N*-граммы** — последовательность из *n* элементов. С семантической точки зрения, это может быть последовательность звуков, слогов, слов или букв. На практике чаще встречается *N*-грамма как ряд слов, устойчивые словосочетания называют коллокацией. Последовательность из двух последовательных элементов часто называют биграмма, последовательность из трёх элементов называется триграмма.  \n",
    "**TF-IDF** — статистическая мера, используемая для оценки важности слова в контексте документа, являющегося частью коллекции документов или корпуса. Вес некоторого слова пропорционален частоте употребления этого слова в документе и обратно пропорционален частоте употребления слова во всех документах коллекции."
   ]
  },
  {
   "cell_type": "code",
   "execution_count": null,
   "metadata": {},
   "outputs": [],
   "source": []
  }
 ],
 "metadata": {
  "kernelspec": {
   "display_name": "Python 3",
   "language": "python",
   "name": "python3"
  },
  "language_info": {
   "codemirror_mode": {
    "name": "ipython",
    "version": 3
   },
   "file_extension": ".py",
   "mimetype": "text/x-python",
   "name": "python",
   "nbconvert_exporter": "python",
   "pygments_lexer": "ipython3",
   "version": "3.6.4"
  }
 },
 "nbformat": 4,
 "nbformat_minor": 2
}
